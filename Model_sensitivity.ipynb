{
 "cells": [
  {
   "cell_type": "code",
   "execution_count": 31,
   "id": "bottom-terrace",
   "metadata": {},
   "outputs": [],
   "source": [
    "import numpy as np\n",
    "import matplotlib.pyplot as plt\n",
    "import seaborn as sns\n",
    "import pandas as pd\n",
    "from sklearn.manifold import MDS"
   ]
  },
  {
   "cell_type": "markdown",
   "id": "finite-housing",
   "metadata": {},
   "source": [
    "# Model sensitivity\n",
    "\n",
    "Using different classical base functions, I'm applying different code changes and measuring the influence on the code vector."
   ]
  },
  {
   "cell_type": "markdown",
   "id": "developing-garden",
   "metadata": {},
   "source": [
    "## Bubble Sort"
   ]
  },
  {
   "cell_type": "markdown",
   "id": "civic-hacker",
   "metadata": {},
   "source": [
    "### Code modyfications"
   ]
  },
  {
   "cell_type": "markdown",
   "id": "successful-brown",
   "metadata": {},
   "source": [
    "#### Base\n",
    "\n",
    "```\n",
    "void bubbleSort(int[] array) {\n",
    "    boolean swapped = true;\n",
    "    for (int i = 0; i < array.length && swapped; i++) {\n",
    "        swapped = false;\n",
    "        for (int j = 0; j < array.length - 1 - i; j++) {\n",
    "           if (array[j] > array[j+1]) {\n",
    "               int temp = array[j];\n",
    "               array[j] = array[j+1];\n",
    "               array[j+1]= temp;\n",
    "               swapped = true;\n",
    "           }\n",
    "        }\n",
    "    }\n",
    "}\n",
    "```\n",
    "\n",
    "```\n",
    "Original name:  bubble|sort\n",
    "    (0.921215) predicted: ['test', 'swap']\n",
    "    (0.032008) predicted: ['bubble', 'sort']\n",
    "    (0.009010) predicted: ['visit', 'binary', 'spatial', 'operator']\n",
    "Most similar functions:\n",
    "    sort  dist:  0.579\n",
    "    sort|writable  dist:  0.627\n",
    "    distance|to  dist:  0.639\n",
    "```"
   ]
  },
  {
   "cell_type": "markdown",
   "id": "opposed-olive",
   "metadata": {},
   "source": [
    "#### Renamed variables\n",
    "\n",
    "```\n",
    "void bubbleSortRenamedvars(int[] array) {\n",
    "    boolean changed = true;\n",
    "    for (int i = 0; i < array.length && changed; i++) {\n",
    "        changed = false;\n",
    "        for (int j = 0; j < array.length - 1 - i; j++) {\n",
    "           if (array[j] > array[j+1]) {\n",
    "               int temp = array[j];\n",
    "               array[j] = array[j+1];\n",
    "               array[j+1]= temp;\n",
    "               changed = true;\n",
    "           }\n",
    "        }\n",
    "    }\n",
    "}\n",
    "```\n",
    "\n",
    "```\n",
    "Original name:  bubble|sort|renamedvars\n",
    "    (0.578621) predicted: ['add', 'all']\n",
    "    (0.207137) predicted: ['retain', 'all']\n",
    "    (0.102822) predicted: ['remove', 'all']\n",
    "Most similar functions:\n",
    "    remove|all  dist:  0.343\n",
    "    add|all  dist:  0.398\n",
    "    retain|all  dist:  0.398\n",
    "```"
   ]
  },
  {
   "cell_type": "markdown",
   "id": "resistant-seafood",
   "metadata": {},
   "source": [
    "#### Renamed loop variables\n",
    "\n",
    "```\n",
    "void bubbleSortRenamedloopvars(int[] array) {\n",
    "    boolean swapped = true;\n",
    "    for (int a = 0; a < array.length && swapped; a++) {\n",
    "        swapped = false;\n",
    "        for (int b = 0; b < array.length - 1 - a; b++) {\n",
    "           if (array[b] > array[b+1]) {\n",
    "               int temp = array[b];\n",
    "               array[b] = array[b+1];\n",
    "               array[b+1]= temp;\n",
    "               swapped = true;\n",
    "           }\n",
    "        }\n",
    "    }\n",
    "}\n",
    "```\n",
    "\n",
    "```\n",
    "Original name:\n",
    "bubble|sort|renamedloopvars\n",
    "    (0.820330) predicted: ['test', 'swap']\n",
    "    (0.038814) predicted: ['sort']\n",
    "    (0.029912) predicted: ['median']\n",
    "Most similar functions:\n",
    "    sort|writable  dist:  0.593\n",
    "    sort  dist:  0.603\n",
    "    to|json|array  dist:  0.626\n",
    "```"
   ]
  },
  {
   "cell_type": "markdown",
   "id": "adaptive-heather",
   "metadata": {},
   "source": [
    "#### Renamed argument\n",
    "\n",
    "```\n",
    "void bubbleSortRenamedargs(int[] list) {\n",
    "    boolean swapped = true;\n",
    "    for (int i = 0; i < list.length && swapped; i++) {\n",
    "        swapped = false;\n",
    "        for (int j = 0; j < list.length - 1 - i; j++) {\n",
    "           if (list[j] > list[j+1]) {\n",
    "               int temp = list[j];\n",
    "               list[j] = list[j+1];\n",
    "               list[j+1]= temp;\n",
    "               swapped = true;\n",
    "           }\n",
    "        }\n",
    "    }\n",
    "}\n",
    "```\n",
    "\n",
    "```\n",
    "Original name:  bubble|sort|renamedargs\n",
    "    (0.869784) predicted: ['test', 'swap']\n",
    "    (0.041800) predicted: ['bubble', 'sort']\n",
    "    (0.022885) predicted: ['median']\n",
    "Most similar functions:\n",
    "    sort  dist:  0.593\n",
    "    sort|writable  dist:  0.604\n",
    "    distance|to  dist:  0.642\n",
    "```"
   ]
  },
  {
   "cell_type": "markdown",
   "id": "correct-acceptance",
   "metadata": {},
   "source": [
    "#### Reorder instructions\n",
    "\n",
    "```\n",
    "void bubbleSortReordered(int[] array) {\n",
    "    boolean swapped = true;\n",
    "    for (int i = 0; i < array.length && swapped; i++) {\n",
    "        swapped = false;\n",
    "        for (int j = 0; j < array.length - 1 - i; j++) {\n",
    "           if (array[j] > array[j+1]) {\n",
    "               swapped = true;\n",
    "               int temp = array[j];\n",
    "               array[j] = array[j+1];\n",
    "               array[j+1]= temp;\n",
    "           }\n",
    "        }\n",
    "    }\n",
    "}\n",
    "```\n",
    "\n",
    "```\n",
    "Original name:  bubble|sort|reordered\n",
    "    (0.921215) predicted: ['test', 'swap'] \n",
    "    (0.032008) predicted: ['bubble', 'sort']\n",
    "    (0.009010) predicted: ['visit', 'binary', 'spatial', 'operator']\n",
    "Most similar functions:\n",
    "    sort  dist:  0.579\n",
    "    sort|writable  dist:  0.627\n",
    "    distance|to  dist:  0.639\n",
    "```"
   ]
  },
  {
   "cell_type": "markdown",
   "id": "infectious-assessment",
   "metadata": {},
   "source": [
    "#### Different type\n",
    "\n",
    "```\n",
    "void bubbleSortDifferenttype(float[] array) {\n",
    "    boolean swapped = true;\n",
    "    for (int i = 0; i < array.length && swapped; i++) {\n",
    "        swapped = false;\n",
    "        for (int j = 0; j < array.length - 1 - i; j++) {\n",
    "           if (array[j] > array[j+1]) {\n",
    "               float temp = array[j];\n",
    "               array[j] = array[j+1];\n",
    "               array[j+1]= temp;\n",
    "               swapped = true;\n",
    "           }\n",
    "        }\n",
    "    }\n",
    "}\n",
    "```\n",
    "\n",
    "```\n",
    "Original name:  bubble|sort|differenttype\n",
    "    (0.767083) predicted: ['test', 'swap']\n",
    "    (0.055495) predicted: ['bubble', 'sort']\n",
    "    (0.043507) predicted: ['median']\n",
    "Most similar functions:\n",
    "    sort  dist:  0.581\n",
    "    sort|writable  dist:  0.625\n",
    "    distance|to  dist:  0.633\n",
    "```"
   ]
  },
  {
   "cell_type": "markdown",
   "id": "spare-church",
   "metadata": {},
   "source": [
    "#### Reimplemented (while loops)\n",
    "\n",
    "```\n",
    "void bubbleSortReimplemented(int[] array) {\n",
    "    boolean swapped = true;\n",
    "    int i = 0;\n",
    "    while (i < array.length && swapped){\n",
    "        swapped = false;\n",
    "        int j = 0;\n",
    "        while (j < array.length - 1 - i){\n",
    "           if (array[j] > array[j+1]) {\n",
    "               int temp = array[j];\n",
    "               array[j] = array[j+1];\n",
    "               array[j+1]= temp;\n",
    "               swapped = true;\n",
    "           }\n",
    "           j++;\n",
    "        }\n",
    "        i++;\n",
    "    }\n",
    "}\n",
    "```\n",
    "\n",
    "```\n",
    "Original name:  bubble|sort|reimplemented\n",
    "    (0.755729) predicted: ['sort']\n",
    "    (0.093519) predicted: ['test', 'swap']\n",
    "    (0.033952) predicted: ['contains']\n",
    "Most similar functions:\n",
    "    sort  dist:  0.562\n",
    "    sort  dist:  0.566\n",
    "    solve  dist:  0.567\n",
    "```"
   ]
  },
  {
   "cell_type": "markdown",
   "id": "synthetic-patrick",
   "metadata": {},
   "source": [
    "#### Reimplemented (length var)\n",
    "\n",
    "```\n",
    "void bubbleSortReimplemented2(int[] array){\n",
    "    int n = array.length;\n",
    "    for (int i = 0; i < n-1; i++)\n",
    "        for (int j = 0; j < n-i-1; j++)\n",
    "            if (array[j] > array[j+1]){\n",
    "                int temp = array[j];\n",
    "                array[j] = array[j+1];\n",
    "                array[j+1] = temp;\n",
    "            }\n",
    "}\n",
    "```\n",
    "\n",
    "```\n",
    "Original name:  bubble|sort|reimplemented\n",
    "    (0.751842) predicted: ['index', 'of']\n",
    "    (0.166091) predicted: ['sort']\n",
    "    (0.019741) predicted: ['compute', 'size']\n",
    "Most similar functions:\n",
    "    next|step  dist:  0.483\n",
    "    distance|to  dist:  0.489\n",
    "    check|cyclic|iteration  dist:  0.514\n",
    "```"
   ]
  },
  {
   "cell_type": "markdown",
   "id": "demanding-transsexual",
   "metadata": {},
   "source": [
    "#### Reimplemented (with break)\n",
    "\n",
    "```\n",
    "void bubbleSortReimplemented3(int[] array) {\n",
    "    boolean swapped = true;\n",
    "    for (int i = 0; i < array.length; i++) {\n",
    "        swapped = false;\n",
    "        for (int j = 0; j < array.length - 1 - i; j++) {\n",
    "           if (array[j] > array[j+1]) {\n",
    "               int temp = array[j];\n",
    "               array[j] = array[j+1];\n",
    "               array[j+1]= temp;\n",
    "               swapped = true;\n",
    "           }\n",
    "        }\n",
    "        if (swapped){\n",
    "            break;\n",
    "        }\n",
    "    }\n",
    "}\n",
    "```\n",
    "\n",
    "```\n",
    "Original name:  bubble|sort|reimplemented\n",
    "    (0.891519) predicted: ['test', 'swap']\n",
    "    (0.044196) predicted: ['bubble', 'sort']\n",
    "    (0.019597) predicted: ['visit', 'distance', 'spatial', 'operator']\n",
    "Most similar functions:\n",
    "    sort  dist:  0.613\n",
    "    distance|to  dist:  0.650\n",
    "    sort|writable  dist:  0.658\n",
    "```"
   ]
  },
  {
   "cell_type": "markdown",
   "id": "relevant-tolerance",
   "metadata": {},
   "source": [
    "### Similar functions"
   ]
  },
  {
   "cell_type": "markdown",
   "id": "collected-hungarian",
   "metadata": {},
   "source": [
    "#### Reverse Array\n",
    "\n",
    "```\n",
    "void reverseArray(int[] array) {\n",
    "    for (int left = 0, right = array.length - 1; left < right; left++, right--) {\n",
    "        int temp = array[left];\n",
    "        array[left]  = array[right];\n",
    "        array[right] = temp;\n",
    "    }\n",
    "}\n",
    "```\n",
    "\n",
    "```\n",
    "Original name:  reverse|array\n",
    "    (0.993705) predicted: ['reverse']\n",
    "    (0.005682) predicted: ['sort']\n",
    "    (0.000228) predicted: ['left']\n",
    "Most similar functions:\n",
    "    compare  dist:  0.378\n",
    "    is|on|same|node|group  dist:  0.514\n",
    "    set  dist:  0.521 \n",
    "```"
   ]
  },
  {
   "cell_type": "markdown",
   "id": "regional-madonna",
   "metadata": {},
   "source": [
    "#### Insertion Sort\n",
    "\n",
    "```\n",
    "void InsertionSort(int[] array) {\n",
    "    int n = array.length;\n",
    "    for (int i = 1; i < n; ++i) {\n",
    "        int key = array[i];\n",
    "        int j = i - 1;\n",
    "        while (j >= 0 && array[j] > key) {\n",
    "            array[j + 1] = array[j];\n",
    "            j = j - 1;\n",
    "        }\n",
    "        array[j + 1] = key;\n",
    "    }\n",
    "}\n",
    "```\n",
    "\n",
    "```\n",
    "Original name:  insertion|sort\n",
    "    (0.982970) predicted: ['insertionsort']\n",
    "    (0.006741) predicted: ['sort', 'by', 'insertion', 'sort']\n",
    "    (0.001879) predicted: ['bytes', 'to', 'string']\n",
    "Most similar functions:\n",
    "    swap  dist:  0.532\n",
    "    run|tests  dist:  0.565\n",
    "    test|remove|multi  dist:  0.565\n",
    "```"
   ]
  },
  {
   "cell_type": "markdown",
   "id": "crude-sight",
   "metadata": {},
   "source": [
    "#### Has Duplicates\n",
    "\n",
    "```\n",
    "boolean hasDuplicates(int[] array) {\n",
    "    for (int i = 0; i < array.length; i++) {\n",
    "        for (int j = 0; j < array.length; j++) {\n",
    "           if (array[i] == array[j] && i!=j) {\n",
    "               return true;\n",
    "           }\n",
    "        }\n",
    "    }\n",
    "    return false;\n",
    "}\n",
    "```\n",
    "\n",
    "```\n",
    "Original name:  has|duplicates\n",
    "    (0.670011) predicted: ['contains']\n",
    "    (0.107143) predicted: ['contains', 'value']\n",
    "    (0.093282) predicted: ['is', 'sorted']\n",
    "Most similar functions:\n",
    "    is|in|list  dist:  0.4205558660568204\n",
    "    compare|nodes  dist:  0.4536907748468022\n",
    "    is|present  dist:  0.4588203328728768\n",
    "```"
   ]
  },
  {
   "cell_type": "markdown",
   "id": "scheduled-manitoba",
   "metadata": {},
   "source": [
    "## Is Prime"
   ]
  },
  {
   "cell_type": "markdown",
   "id": "electoral-tract",
   "metadata": {},
   "source": [
    "### Code modyfications"
   ]
  },
  {
   "cell_type": "markdown",
   "id": "radical-desert",
   "metadata": {},
   "source": [
    "#### Base\n",
    "\n",
    "```\n",
    "boolean isPrime(int n) {\n",
    "    if (n <= 1) {\n",
    "        return false;\n",
    "    }\n",
    "    for (int i = 2; i * i <= n; i++) {\n",
    "        if (n % i == 0) {\n",
    "            return false;\n",
    "        }\n",
    "    }\n",
    "    return true;\n",
    "}\n",
    "```"
   ]
  },
  {
   "cell_type": "markdown",
   "id": "apart-robert",
   "metadata": {},
   "source": [
    "#### Renamed loop variables\n",
    "\n",
    "```\n",
    "boolean isPrimeRenameloopvar(int n) {\n",
    "    if (n <= 1) {\n",
    "        return false;\n",
    "    }\n",
    "    for (int a = 2; a * a <= n; a++) {\n",
    "        if (n % a == 0) {\n",
    "            return false;\n",
    "        }\n",
    "    }\n",
    "    return true;\n",
    "}\n",
    "```"
   ]
  },
  {
   "cell_type": "markdown",
   "id": "velvet-links",
   "metadata": {},
   "source": [
    "#### Renamed argument\n",
    "\n",
    "```\n",
    "boolean isPrimeRenameargs(int a) {\n",
    "    if (a <= 1) {\n",
    "        return false;\n",
    "    }\n",
    "    for (int i = 2; i * i <= a; i++) {\n",
    "        if (a % i == 0) {\n",
    "            return false;\n",
    "        }\n",
    "    }\n",
    "    return true;\n",
    "}\n",
    "```"
   ]
  },
  {
   "cell_type": "markdown",
   "id": "provincial-tuner",
   "metadata": {},
   "source": [
    "#### Reimplemented (to n)\n",
    "\n",
    "```\n",
    "boolean isPrimeReimplemented(int n) {\n",
    "    if (n <= 1) {\n",
    "        return false;\n",
    "    }\n",
    "    for (int i = 2; i <= n; i++) {\n",
    "        if (n % i == 0) {\n",
    "            return false;\n",
    "        }\n",
    "    }\n",
    "    return true;\n",
    "}\n",
    "```"
   ]
  },
  {
   "cell_type": "markdown",
   "id": "informational-toner",
   "metadata": {},
   "source": [
    "#### Reimplemented (while loop)\n",
    "\n",
    "```\n",
    "boolean isPrimeReimplemente2(int n) {\n",
    "    if (n <= 1) {\n",
    "        return false;\n",
    "    }\n",
    "    int i = 2;\n",
    "    while (i * i <= n) {\n",
    "        if (n % i == 0) {\n",
    "            return false;\n",
    "        }\n",
    "        i++;\n",
    "    }\n",
    "    return true;\n",
    "}\n",
    "```"
   ]
  },
  {
   "cell_type": "markdown",
   "id": "grave-astronomy",
   "metadata": {},
   "source": [
    "#### Reimplemented (different method)\n",
    "\n",
    "```\n",
    "boolean isPrimeReimplemented3(int n) {\n",
    "    if (n <= 1)\n",
    "        return false;\n",
    "    if (n <= 3)\n",
    "        return true;\n",
    "    if (n % 2 == 0 || n % 3 == 0)\n",
    "        return false;\n",
    "    for (int i = 5; i * i <= n; i = i + 6)\n",
    "        if (n % i == 0 || n % (i + 2) == 0)\n",
    "            return false;\n",
    "    return true;\n",
    "}\n",
    "```"
   ]
  },
  {
   "cell_type": "markdown",
   "id": "christian-testing",
   "metadata": {},
   "source": [
    "### Similar functions"
   ]
  },
  {
   "cell_type": "markdown",
   "id": "bizarre-gasoline",
   "metadata": {},
   "source": [
    "#### Smallest Divisor\n",
    "\n",
    "```\n",
    "int smallestDivisor(int n) {\n",
    "    if (n <= 1) {\n",
    "        return 1;\n",
    "    }\n",
    "    for (int i = 2; i * i <= n; i++) {\n",
    "        if (n % i == 0) {\n",
    "            return i;\n",
    "        }\n",
    "    }\n",
    "    return 1;\n",
    "}\n",
    "```"
   ]
  },
  {
   "cell_type": "markdown",
   "id": "consecutive-sustainability",
   "metadata": {},
   "source": [
    "#### GCD\n",
    "\n",
    "```\n",
    "int gcdByBruteForce(int n1, int n2) {\n",
    "    int gcd = 1;\n",
    "    for (int i = 1; i <= n1 && i <= n2; i++) {\n",
    "        if (n1 % i == 0 && n2 % i == 0) {\n",
    "            gcd = i;\n",
    "        }\n",
    "    }\n",
    "    return gcd;\n",
    "}\n",
    "```"
   ]
  },
  {
   "cell_type": "markdown",
   "id": "bulgarian-ownership",
   "metadata": {},
   "source": [
    "## Binary Search"
   ]
  },
  {
   "cell_type": "markdown",
   "id": "amino-master",
   "metadata": {},
   "source": [
    "### Code modyfications"
   ]
  },
  {
   "cell_type": "markdown",
   "id": "naughty-causing",
   "metadata": {},
   "source": [
    "#### Base\n",
    "\n",
    "```\n",
    "int binarySearch(int arr[], int x) {\n",
    "    int l = 0, r = arr.length - 1;\n",
    "    while (l <= r) {\n",
    "        int m = l + (r - l) / 2;\n",
    "        if (arr[m] == x)\n",
    "            return m;\n",
    "        if (arr[m] < x)\n",
    "            l = m + 1;\n",
    "        else\n",
    "            r = m - 1;\n",
    "    }\n",
    "    return -1;\n",
    "}\n",
    "```"
   ]
  },
  {
   "cell_type": "markdown",
   "id": "precious-smith",
   "metadata": {},
   "source": [
    "#### Renamed variables\n",
    "\n",
    "```\n",
    "int binarySearchRenamedvars(int arr[], int x) {\n",
    "    int left = 0, right = arr.length - 1;\n",
    "    while (left <= right) {\n",
    "        int middle = left + (right - left) / 2;\n",
    "        if (arr[middle] == x)\n",
    "            return m;\n",
    "        if (arr[middle] < x)\n",
    "            left = middle + 1;\n",
    "        else\n",
    "            right = middle - 1;\n",
    "    }\n",
    "    return -1;\n",
    "}\n",
    "```"
   ]
  },
  {
   "cell_type": "markdown",
   "id": "driven-ambassador",
   "metadata": {},
   "source": [
    "#### Renamed arguments\n",
    "\n",
    "```\n",
    "int binarySearchRenamedargs(int list[], int a) {\n",
    "    int l = 0, r = list.length - 1;\n",
    "    while (l <= r) {\n",
    "        int m = l + (r - l) / 2;\n",
    "        if (list[m] == a)\n",
    "            return m;\n",
    "        if (list[m] < a)\n",
    "            l = m + 1;\n",
    "        else\n",
    "            r = m - 1;\n",
    "    }\n",
    "    return -1;\n",
    "}\n",
    "```"
   ]
  },
  {
   "cell_type": "markdown",
   "id": "economic-collect",
   "metadata": {},
   "source": [
    "#### Reordered if statements\n",
    "\n",
    "```\n",
    "int binarySearchReordered(int arr[], int x) {\n",
    "    int l = 0, r = arr.length - 1;\n",
    "    while (l <= r) {\n",
    "        int m = l + (r - l) / 2;\n",
    "        if (arr[m] == x)\n",
    "            return m;\n",
    "        if (arr[m] > x)\n",
    "            r = m - 1;\n",
    "        else\n",
    "            l = m + 1;\n",
    "    }\n",
    "    return -1;\n",
    "}\n",
    "```"
   ]
  },
  {
   "cell_type": "markdown",
   "id": "provincial-librarian",
   "metadata": {},
   "source": [
    "#### Reordered if statements 2\n",
    "\n",
    "```\n",
    "int binarySearchReordered2(int arr[], int x) {\n",
    "    int l = 0, r = arr.length - 1;\n",
    "    while (l <= r) {\n",
    "        int m = l + (r - l) / 2;\n",
    "        if (arr[m] > x)\n",
    "            r = m - 1;\n",
    "        if (arr[m] < x)\n",
    "            l = m + 1;\n",
    "        else\n",
    "            return m;\n",
    "    }\n",
    "    return -1;\n",
    "}\n",
    "```"
   ]
  },
  {
   "cell_type": "markdown",
   "id": "statewide-mitchell",
   "metadata": {},
   "source": [
    "#### Reordered if statements 3\n",
    "\n",
    "```\n",
    "int binarySearchReordered3(int arr[], int x) {\n",
    "    int l = 0, r = arr.length - 1;\n",
    "    while (l <= r) {\n",
    "        int m = l + (r - l) / 2;\n",
    "        if (arr[m] < x)\n",
    "            l = m + 1;\n",
    "        if (arr[m] > x)\n",
    "            r = m - 1;\n",
    "        else\n",
    "            return m;\n",
    "    }\n",
    "    return -1;\n",
    "}\n",
    "```"
   ]
  },
  {
   "cell_type": "markdown",
   "id": "digital-dodge",
   "metadata": {},
   "source": [
    "#### Different type\n",
    "\n",
    "```\n",
    "int binarySearchDifferenttype(float arr[], float x) {\n",
    "    int l = 0, r = arr.length - 1;\n",
    "    while (l <= r) {\n",
    "        int m = l + (r - l) / 2;\n",
    "        if (arr[m] == x)\n",
    "            return m;\n",
    "        if (arr[m] < x)\n",
    "            l = m + 1;\n",
    "        else\n",
    "            r = m - 1;\n",
    "    }\n",
    "    return -1;\n",
    "}\n",
    "```"
   ]
  },
  {
   "cell_type": "markdown",
   "id": "gothic-designation",
   "metadata": {},
   "source": [
    "#### Reimplemented (recursion)\n",
    "\n",
    "```\n",
    "int binarySearchReimplemented(int arr[], int l, int r, int x){  \n",
    "    if (r>=l) {  \n",
    "        int m = l + (r - l)/2;  \n",
    "        if (arr[m] == x) {  \n",
    "            return m;  \n",
    "        }  \n",
    "        if (arr[m] > x) {  \n",
    "            return binarySearch(arr, l, m-1, x);\n",
    "        } else {  \n",
    "            return binarySearch(arr, m+1, r, x); \n",
    "        }  \n",
    "    }  \n",
    "    return -1;  \n",
    "}  \n",
    "```"
   ]
  },
  {
   "cell_type": "markdown",
   "id": "duplicate-newport",
   "metadata": {},
   "source": [
    "## BFS"
   ]
  },
  {
   "cell_type": "markdown",
   "id": "friendly-montreal",
   "metadata": {},
   "source": [
    "### Code modyfications"
   ]
  },
  {
   "cell_type": "markdown",
   "id": "prostate-basics",
   "metadata": {},
   "source": [
    "#### Base\n",
    "\n",
    "```\n",
    "void BFS(int s){\n",
    "    boolean visited[] = new boolean[V];\n",
    "    LinkedList<Integer> queue = new LinkedList<Integer>();\n",
    "    visited[s]=true;\n",
    "    queue.add(s);\n",
    "    while (queue.size() != 0) {\n",
    "        s = queue.poll();\n",
    "        System.out.print(s + \" \");\n",
    "        Iterator<Integer> i = adj[s].listIterator();\n",
    "        while (i.hasNext())\n",
    "        {\n",
    "            int n = i.next();\n",
    "            if (!visited[n])\n",
    "            {\n",
    "                visited[n] = true;\n",
    "                queue.add(n);\n",
    "            }\n",
    "        }\n",
    "    }\n",
    "}\n",
    "```"
   ]
  },
  {
   "cell_type": "markdown",
   "id": "potential-manhattan",
   "metadata": {},
   "source": [
    "#### Renamed variables\n",
    "\n",
    "```\n",
    "void BFSRenamedvars(int s){\n",
    "    boolean alreadySearched[] = new boolean[V];\n",
    "    LinkedList<Integer> differentNameForQueue = new LinkedList<Integer>();\n",
    "    alreadySearched[s]=true;\n",
    "    differentNameForQueue.add(s);\n",
    "    while (differentNameForQueue.size() != 0) {\n",
    "        s = differentNameForQueue.poll();\n",
    "        System.out.print(s + \" \");\n",
    "        Iterator<Integer> i = adj[s].listIterator();\n",
    "        while (i.hasNext())\n",
    "        {\n",
    "            int n = i.next();\n",
    "            if (!alreadySearched[n])\n",
    "            {\n",
    "                alreadySearched[n] = true;\n",
    "                differentNameForQueue.add(n);\n",
    "            }\n",
    "        }\n",
    "    }\n",
    "}\n",
    "```"
   ]
  },
  {
   "cell_type": "markdown",
   "id": "animated-interest",
   "metadata": {},
   "source": [
    "#### Remaned arguments\n",
    "\n",
    "```\n",
    "void BFSRenamedargs(int n){\n",
    "    boolean visited[] = new boolean[V];\n",
    "    LinkedList<Integer> queue = new LinkedList<Integer>();\n",
    "    visited[n]=true;\n",
    "    queue.add(n);\n",
    "    while (queue.size() != 0) {\n",
    "        n = queue.poll();\n",
    "        System.out.print(n + \" \");\n",
    "        Iterator<Integer> i = adj[n].listIterator();\n",
    "        while (i.hasNext())\n",
    "        {\n",
    "            int c = i.next();\n",
    "            if (!visited[c])\n",
    "            {\n",
    "                visited[c] = true;\n",
    "                queue.add(c);\n",
    "            }\n",
    "        }\n",
    "    }\n",
    "}\n",
    "```"
   ]
  },
  {
   "cell_type": "markdown",
   "id": "comic-style",
   "metadata": {},
   "source": [
    "#### Reordered \n",
    "\n",
    "```\n",
    "void BFSReordered(int s){\n",
    "    LinkedList<Integer> queue = new LinkedList<Integer>();\n",
    "    queue.add(s);\n",
    "    boolean visited[] = new boolean[V];\n",
    "    visited[s]=true;\n",
    "    while (queue.size() != 0) {\n",
    "        s = queue.poll();\n",
    "        Iterator<Integer> i = adj[s].listIterator();\n",
    "        System.out.print(s + \" \");\n",
    "        while (i.hasNext())\n",
    "        {\n",
    "            int n = i.next();\n",
    "            if (!visited[n])\n",
    "            {\n",
    "                queue.add(n);\n",
    "                visited[n] = true;\n",
    "            }\n",
    "        }\n",
    "    }\n",
    "}\n",
    "````"
   ]
  },
  {
   "cell_type": "markdown",
   "id": "whole-stockholm",
   "metadata": {},
   "source": [
    "#### Reimplemented\n",
    "\n",
    "```\n",
    "void BFSReimplemented() {\n",
    "    Queue q = new LinkedList();\n",
    "    for (i = 0; i < visited.length; i++)\n",
    "        visited[i] = false;\n",
    "    q.add(0);\n",
    "    while(! q.isEmpty()) {\n",
    "        int nextNode;\n",
    "        int i;\n",
    "        nextNode = q.remove();\n",
    "        if (!visited[nextNode]) {\n",
    "        visited[nextNode] = true;\n",
    "        System.out.println(\"nextNode = \" + nextNode);\n",
    "        for ( i = 0; i < NNodes; i++ )\n",
    "            if ( adjMatrix[nextNode][i] > 0 && ! visited[i] )\n",
    "                q.add(i);\n",
    "        }\n",
    "    }\n",
    "}\n",
    "```"
   ]
  },
  {
   "cell_type": "markdown",
   "id": "qualified-saturday",
   "metadata": {},
   "source": [
    "## Edit Distance"
   ]
  },
  {
   "cell_type": "markdown",
   "id": "transparent-wonder",
   "metadata": {},
   "source": [
    "### Code modyfications"
   ]
  },
  {
   "cell_type": "markdown",
   "id": "responsible-administrator",
   "metadata": {},
   "source": [
    "#### Base\n",
    "\n",
    "```\n",
    "int editDistance(String word1, String word2) {\n",
    "\tint len1 = word1.length();\n",
    "\tint len2 = word2.length();\n",
    "\tint[][] dp = new int[len1 + 1][len2 + 1];\n",
    "\tfor (int i = 0; i <= len1; i++) {\n",
    "\t\tdp[i][0] = i;\n",
    "\t}\n",
    "\tfor (int j = 0; j <= len2; j++) {\n",
    "\t\tdp[0][j] = j;\n",
    "\t}\n",
    "\tfor (int i = 0; i < len1; i++) {\n",
    "\t\tchar c1 = word1.charAt(i);\n",
    "\t\tfor (int j = 0; j < len2; j++) {\n",
    "\t\t\tchar c2 = word2.charAt(j);\n",
    "\t\t\tif (c1 == c2) {\n",
    "\t\t\t\tdp[i + 1][j + 1] = dp[i][j];\n",
    "\t\t\t} else {\n",
    "\t\t\t\tint replace = dp[i][j] + 1;\n",
    "\t\t\t\tint insert = dp[i][j + 1] + 1;\n",
    "\t\t\t\tint delete = dp[i + 1][j] + 1;\n",
    "\t\t\t\tint min = replace > insert ? insert : replace;\n",
    "\t\t\t\tmin = delete > min ? min : delete;\n",
    "\t\t\t\tdp[i + 1][j + 1] = min;\n",
    "\t\t\t}\n",
    "\t\t}\n",
    "\t}\n",
    "\treturn dp[len1][len2];\n",
    "}\n",
    "```"
   ]
  },
  {
   "cell_type": "markdown",
   "id": "respective-demonstration",
   "metadata": {},
   "source": [
    "#### Renamed variables\n",
    "\n",
    "```\n",
    "int editDistanceRenamedvars(String word1, String word2) {\n",
    "\tint numberOfLetters1 = word1.length();\n",
    "\tint numberOfLetters2 = word2.length();\n",
    "\tint[][] array = new int[numberOfLetters1 + 1][numberOfLetters2 + 1];\n",
    "\tfor (int i = 0; i <= numberOfLetters1; i++) {\n",
    "\t\tarray[i][0] = i;\n",
    "\t}\n",
    "\tfor (int j = 0; j <= numberOfLetters2; j++) {\n",
    "\t\tarray[0][j] = j;\n",
    "\t}\n",
    "\tfor (int i = 0; i < numberOfLetters1; i++) {\n",
    "\t\tchar c1 = word1.charAt(i);\n",
    "\t\tfor (int j = 0; j < numberOfLetters2; j++) {\n",
    "\t\t\tchar c2 = word2.charAt(j);\n",
    "\t\t\tif (c1 == c2) {\n",
    "\t\t\t\tarray[i + 1][j + 1] = array[i][j];\n",
    "\t\t\t} else {\n",
    "\t\t\t\tint r = array[i][j] + 1;\n",
    "\t\t\t\tint i = array[i][j + 1] + 1;\n",
    "\t\t\t\tint d = array[i + 1][j] + 1;\n",
    "\t\t\t\tint res = r > i ? i : r;\n",
    "\t\t\t\tres = d > res ? res : d;\n",
    "\t\t\t\tarray[i + 1][j + 1] = res;\n",
    "\t\t\t}\n",
    "\t\t}\n",
    "\t}\n",
    "\treturn array[numberOfLetters1][numberOfLetters2];\n",
    "}\n",
    "```"
   ]
  },
  {
   "cell_type": "markdown",
   "id": "terminal-blanket",
   "metadata": {},
   "source": [
    "#### Renamed loop variables\n",
    "\n",
    "```\n",
    "int editDistanceRenamedloopvars(String word1, String word2) {\n",
    "\tint len1 = word1.length();\n",
    "\tint len2 = word2.length();\n",
    "\tint[][] dp = new int[len1 + 1][len2 + 1];\n",
    "\tfor (int a = 0; a <= len1; a++) {\n",
    "\t\tdp[a][0] = a;\n",
    "\t}\n",
    "\tfor (int b = 0; b <= len2; b++) {\n",
    "\t\tdp[0][b] = b;\n",
    "\t}\n",
    "\tfor (int z = 0; z < len1; z++) {\n",
    "\t\tchar c1 = word1.charAt(z);\n",
    "\t\tfor (int t = 0; t < len2; t++) {\n",
    "\t\t\tchar c2 = word2.charAt(t);\n",
    "\t\t\tif (c1 == c2) {\n",
    "\t\t\t\tdp[z + 1][t + 1] = dp[z][t];\n",
    "\t\t\t} else {\n",
    "\t\t\t\tint replace = dp[z][t] + 1;\n",
    "\t\t\t\tint insert = dp[z][t + 1] + 1;\n",
    "\t\t\t\tint delete = dp[z + 1][t] + 1;\n",
    "\t\t\t\tint min = replace > insert ? insert : replace;\n",
    "\t\t\t\tmin = delete > min ? min : delete;\n",
    "\t\t\t\tdp[z + 1][t + 1] = min;\n",
    "\t\t\t}\n",
    "\t\t}\n",
    "\t}\n",
    "\treturn dp[len1][len2];\n",
    "}\n",
    "```"
   ]
  },
  {
   "cell_type": "markdown",
   "id": "younger-sodium",
   "metadata": {},
   "source": [
    "#### Renamed arguments\n",
    "\n",
    "```\n",
    "int editDistanceRenemedargs(String string1, String string2) {\n",
    "\tint len1 = string1.length();\n",
    "\tint len2 = string2.length();\n",
    "\tint[][] dp = new int[len1 + 1][len2 + 1];\n",
    "\tfor (int i = 0; i <= len1; i++) {\n",
    "\t\tdp[i][0] = i;\n",
    "\t}\n",
    "\tfor (int j = 0; j <= len2; j++) {\n",
    "\t\tdp[0][j] = j;\n",
    "\t}\n",
    "\tfor (int i = 0; i < len1; i++) {\n",
    "\t\tchar c1 = string1.charAt(i);\n",
    "\t\tfor (int j = 0; j < len2; j++) {\n",
    "\t\t\tchar c2 = string2.charAt(j);\n",
    "\t\t\tif (c1 == c2) {\n",
    "\t\t\t\tdp[i + 1][j + 1] = dp[i][j];\n",
    "\t\t\t} else {\n",
    "\t\t\t\tint replace = dp[i][j] + 1;\n",
    "\t\t\t\tint insert = dp[i][j + 1] + 1;\n",
    "\t\t\t\tint delete = dp[i + 1][j] + 1;\n",
    "\t\t\t\tint min = replace > insert ? insert : replace;\n",
    "\t\t\t\tmin = delete > min ? min : delete;\n",
    "\t\t\t\tdp[i + 1][j + 1] = min;\n",
    "\t\t\t}\n",
    "\t\t}\n",
    "\t}\n",
    "\treturn dp[len1][len2];\n",
    "}\n",
    "```"
   ]
  },
  {
   "cell_type": "markdown",
   "id": "brilliant-gentleman",
   "metadata": {},
   "source": [
    "#### Reordered\n",
    "\n",
    "```\n",
    "int editDistanceReordered(String word1, String word2) {\n",
    "    int len2 = word2.length();\n",
    "\tint len1 = word1.length();\n",
    "\tint[][] dp = new int[len1 + 1][len2 + 1];\n",
    "\tfor (int j = 0; j <= len2; j++) {\n",
    "\t\tdp[0][j] = j;\n",
    "\t}\n",
    "    for (int i = 0; i <= len1; i++) {\n",
    "\t\tdp[i][0] = i;\n",
    "\t}\n",
    "\tfor (int i = 0; i < len1; i++) {\n",
    "\t\tchar c1 = word1.charAt(i);\n",
    "\t\tfor (int j = 0; j < len2; j++) {\n",
    "\t\t\tchar c2 = word2.charAt(j);\n",
    "\t\t\tif (c1 == c2) {\n",
    "\t\t\t\tdp[i + 1][j + 1] = dp[i][j];\n",
    "\t\t\t} else {\n",
    "                int delete = dp[i + 1][j] + 1;\n",
    "                int insert = dp[i][j + 1] + 1;\n",
    "\t\t\t\tint replace = dp[i][j] + 1;\n",
    "\t\t\t\tint min = replace > insert ? insert : replace;\n",
    "\t\t\t\tmin = delete > min ? min : delete;\n",
    "\t\t\t\tdp[i + 1][j + 1] = min;\n",
    "\t\t\t}\n",
    "\t\t}\n",
    "\t}\n",
    "\treturn dp[len1][len2];\n",
    "}\n",
    "```"
   ]
  },
  {
   "cell_type": "markdown",
   "id": "boolean-multiple",
   "metadata": {},
   "source": [
    "#### Reimplemented (while loops)\n",
    "\n",
    "```\n",
    "int editDistanceReimplemented(String word1, String word2) {\n",
    "\tint len1 = word1.length();\n",
    "\tint len2 = word2.length();\n",
    "\tint[][] dp = new int[len1 + 1][len2 + 1];\n",
    "    int i = 0;\n",
    "\twhile (i <= len1) {\n",
    "\t\tdp[i][0] = i;\n",
    "        i++;\n",
    "\t}\n",
    "    int j = 0;\n",
    "\twhile (j <= len2) {\n",
    "\t\tdp[0][j] = j;\n",
    "        j++;\n",
    "\t}\n",
    "    int i = 0;\n",
    "\twhile (i < len1) {\n",
    "\t\tchar c1 = word1.charAt(i);\n",
    "        int j = 0;\n",
    "\t\twhile (j < len2) {\n",
    "\t\t\tchar c2 = word2.charAt(j);\n",
    "\t\t\tif (c1 == c2) {\n",
    "\t\t\t\tdp[i + 1][j + 1] = dp[i][j];\n",
    "\t\t\t} else {\n",
    "\t\t\t\tint replace = dp[i][j] + 1;\n",
    "\t\t\t\tint insert = dp[i][j + 1] + 1;\n",
    "\t\t\t\tint delete = dp[i + 1][j] + 1;\n",
    "\t\t\t\tint min = replace > insert ? insert : replace;\n",
    "\t\t\t\tmin = delete > min ? min : delete;\n",
    "\t\t\t\tdp[i + 1][j + 1] = min;\n",
    "\t\t\t}\n",
    "            j++;\n",
    "\t\t}\n",
    "        i++;\n",
    "\t}\n",
    "\treturn dp[len1][len2];\n",
    "}\n",
    "```"
   ]
  },
  {
   "cell_type": "markdown",
   "id": "proprietary-perry",
   "metadata": {},
   "source": [
    "#### Reimplemented (min value order)\n",
    "\n",
    "```\n",
    "int editDistanceReimplemented2(String word1, String word2) {\n",
    "\tint len1 = word1.length();\n",
    "\tint len2 = word2.length();\n",
    "\tint[][] dp = new int[len1 + 1][len2 + 1];\n",
    "\tfor (int i = 0; i <= len1; i++) {\n",
    "\t\tdp[i][0] = i;\n",
    "\t}\n",
    "\tfor (int j = 0; j <= len2; j++) {\n",
    "\t\tdp[0][j] = j;\n",
    "\t}\n",
    "\tfor (int i = 0; i < len1; i++) {\n",
    "\t\tchar c1 = word1.charAt(i);\n",
    "\t\tfor (int j = 0; j < len2; j++) {\n",
    "\t\t\tchar c2 = word2.charAt(j);\n",
    "\t\t\tif (c1 == c2) {\n",
    "\t\t\t\tdp[i + 1][j + 1] = dp[i][j];\n",
    "\t\t\t} else {\n",
    "\t\t\t\tint replace = dp[i][j] + 1;\n",
    "\t\t\t\tint insert = dp[i][j + 1] + 1;\n",
    "\t\t\t\tint delete = dp[i + 1][j] + 1;\n",
    "\t\t\t\tint min = delete > insert ? insert : delete;\n",
    "\t\t\t\tmin = replace > min ? min : replace;\n",
    "\t\t\t\tdp[i + 1][j + 1] = min;\n",
    "\t\t\t}\n",
    "\t\t}\n",
    "\t}\n",
    "\treturn dp[len1][len2];\n",
    "}\n",
    "```"
   ]
  },
  {
   "cell_type": "markdown",
   "id": "excited-italic",
   "metadata": {},
   "source": [
    "#### Reimplemented (shorter code)\n",
    "\n",
    "```\n",
    "int editDistReimplemented3(String s1, String s2) {\n",
    "    int[][] dp = new int[s1.length() + 1][s2.length() + 1];\n",
    "    for (int row = s2.length(); row >= 0; row--) {\n",
    "        dp[row][s1.length()] = s2.length() - row;\n",
    "    }\n",
    "    for (int col = s1.length(); col >= 0; col--) {\n",
    "        dp[s2.length()][col] = s1.length() - col;\n",
    "    }\n",
    "    for (int col = s1.length() - 1; col >= 0; col--) {\n",
    "        for (int row = s2.length() - 1; row >= 0; row--) {\n",
    "            if (s1.charAt(col) == s2.charAt(row)) {\n",
    "                dp[row][col] = dp[row + 1][col + 1];\n",
    "            } else {\n",
    "            dp[row][col] = 1 + Math.min(dp[row + 1][col + 1], Math.min(dp[row][col + 1], dp[row + 1][col]));\n",
    "            }\n",
    "        }\n",
    "    }\n",
    "    return dp[0][0];\n",
    "}\n",
    "```"
   ]
  },
  {
   "cell_type": "markdown",
   "id": "working-delhi",
   "metadata": {},
   "source": [
    "## Results"
   ]
  },
  {
   "cell_type": "markdown",
   "id": "fatal-istanbul",
   "metadata": {},
   "source": [
    "### Bubble sort"
   ]
  },
  {
   "cell_type": "code",
   "execution_count": 41,
   "id": "overhead-cologne",
   "metadata": {},
   "outputs": [],
   "source": [
    "with open('code_sensitivity.vectors') as vectors_file:\n",
    "    code_vectors = np.loadtxt(vectors_file.readlines())"
   ]
  },
  {
   "cell_type": "code",
   "execution_count": 42,
   "id": "latin-custody",
   "metadata": {},
   "outputs": [],
   "source": [
    "total_len = 0\n",
    "names = ['base', 'renamed vars', 'renamed loop vars', 'renames args', 'reordered', 'float type', 'while loop', 'length var', 'break used', 'reverse_array', 'insertion sort', 'has duplicates']\n",
    "X = code_vectors[total_len:total_len+len(names),:]\n",
    "total_len += len(names)"
   ]
  },
  {
   "cell_type": "code",
   "execution_count": 43,
   "id": "domestic-gilbert",
   "metadata": {},
   "outputs": [],
   "source": [
    "sim_matrix = X @ X.T\n",
    "dist_matrix = 1-sim_matrix"
   ]
  },
  {
   "cell_type": "code",
   "execution_count": 44,
   "id": "copyrighted-donor",
   "metadata": {},
   "outputs": [
    {
     "data": {
      "image/png": "[encoded data removed]",
      "text/plain": [
       "<Figure size 864x720 with 2 Axes>"
      ]
     },
     "metadata": {
      "needs_background": "light"
     },
     "output_type": "display_data"
    }
   ],
   "source": [
    "plt.figure(figsize=(12,10))\n",
    "sns.heatmap(dist_matrix, cmap=\"YlGnBu\", xticklabels=names, yticklabels=names, vmax=1.0)\n",
    "plt.show()"
   ]
  },
  {
   "cell_type": "markdown",
   "id": "committed-murder",
   "metadata": {},
   "source": [
    "As we can see most changes in the code aren't influential on the code vectors in a significant manner, however renaming variables (even using similar words) can change the code vector radically. We can observe a similar phenomenon while adding a new variable (length of the input array). A bit promising is a fact that we can change for loops to while loops, or use different types of input array without significant changes in the code vector.\n",
    "Based on the example we're not able to classify if the function that shares most of the code (for example insertion sort, has duplicates, reverse) has the same functionality."
   ]
  },
  {
   "cell_type": "markdown",
   "id": "middle-ghost",
   "metadata": {},
   "source": [
    "### Is Prime"
   ]
  },
  {
   "cell_type": "code",
   "execution_count": 45,
   "id": "intensive-likelihood",
   "metadata": {},
   "outputs": [],
   "source": [
    "names = ['base', 'renamed loop vars', 'renames args', 'loop to n', 'while loop', 'different algorithm', 'smallest_divisor', 'gcd']\n",
    "X = code_vectors[total_len:total_len+len(names),:]\n",
    "total_len += len(names)"
   ]
  },
  {
   "cell_type": "code",
   "execution_count": 46,
   "id": "about-worth",
   "metadata": {},
   "outputs": [],
   "source": [
    "sim_matrix = X @ X.T\n",
    "dist_matrix = 1-sim_matrix"
   ]
  },
  {
   "cell_type": "code",
   "execution_count": 47,
   "id": "adequate-crown",
   "metadata": {},
   "outputs": [
    {
     "data": {
      "image/png": "[encoded data removed]",
      "text/plain": [
       "<Figure size 864x720 with 2 Axes>"
      ]
     },
     "metadata": {
      "needs_background": "light"
     },
     "output_type": "display_data"
    }
   ],
   "source": [
    "plt.figure(figsize=(12,10))\n",
    "sns.heatmap(dist_matrix, cmap=\"YlGnBu\", xticklabels=names, yticklabels=names, vmax=1.0)\n",
    "plt.show()"
   ]
  },
  {
   "cell_type": "markdown",
   "id": "numerical-satin",
   "metadata": {},
   "source": [
    "In this case, part of the changes doesn't influent code vectors, but replacing for loops with the while loops leads to a significant increase in the cosine distance. The different algorithm that looks similar, for example, smallest divisor can be closer to the original vector than the same algorithms implemented differently."
   ]
  },
  {
   "cell_type": "markdown",
   "id": "placed-testament",
   "metadata": {},
   "source": [
    "### Binary Search"
   ]
  },
  {
   "cell_type": "code",
   "execution_count": 48,
   "id": "accredited-gather",
   "metadata": {},
   "outputs": [],
   "source": [
    "names = ['base', 'renamed vars', 'renames args', 'reorder ifs 1', 'reorder ifs 2', 'reorder ifs 3', 'different type', 'recursive version']\n",
    "X = code_vectors[total_len:total_len+len(names),:]\n",
    "total_len += len(names)"
   ]
  },
  {
   "cell_type": "code",
   "execution_count": 49,
   "id": "recovered-toronto",
   "metadata": {},
   "outputs": [],
   "source": [
    "sim_matrix = X @ X.T\n",
    "dist_matrix = 1-sim_matrix"
   ]
  },
  {
   "cell_type": "code",
   "execution_count": 50,
   "id": "civil-theme",
   "metadata": {},
   "outputs": [
    {
     "data": {
      "image/png": "[encoded data removed]",
      "text/plain": [
       "<Figure size 864x720 with 2 Axes>"
      ]
     },
     "metadata": {
      "needs_background": "light"
     },
     "output_type": "display_data"
    }
   ],
   "source": [
    "plt.figure(figsize=(12,10))\n",
    "sns.heatmap(dist_matrix, cmap=\"YlGnBu\", xticklabels=names, yticklabels=names, vmax=1.0)\n",
    "plt.show()"
   ]
  },
  {
   "cell_type": "markdown",
   "id": "caroline-lease",
   "metadata": {},
   "source": [
    "In the case of Binary search, all versions have similar code vectors. We can only spot some differences in the recursive version and in the version with renamed variables."
   ]
  },
  {
   "cell_type": "markdown",
   "id": "accurate-arbitration",
   "metadata": {},
   "source": [
    "### BFS"
   ]
  },
  {
   "cell_type": "code",
   "execution_count": 51,
   "id": "controlled-confidentiality",
   "metadata": {},
   "outputs": [],
   "source": [
    "names = ['base', 'renamed vars', 'renames args', 'reorder', 'reimplemented']\n",
    "X = code_vectors[total_len:total_len+len(names),:]\n",
    "total_len += len(names)"
   ]
  },
  {
   "cell_type": "code",
   "execution_count": 52,
   "id": "german-comedy",
   "metadata": {},
   "outputs": [],
   "source": [
    "sim_matrix = X @ X.T\n",
    "dist_matrix = 1-sim_matrix"
   ]
  },
  {
   "cell_type": "code",
   "execution_count": 53,
   "id": "fallen-ghost",
   "metadata": {},
   "outputs": [
    {
     "data": {
      "image/png": "[encoded data removed]",
      "text/plain": [
       "<Figure size 864x720 with 2 Axes>"
      ]
     },
     "metadata": {
      "needs_background": "light"
     },
     "output_type": "display_data"
    }
   ],
   "source": [
    "plt.figure(figsize=(12,10))\n",
    "sns.heatmap(dist_matrix, cmap=\"YlGnBu\", xticklabels=names, yticklabels=names, vmax=1.0)\n",
    "plt.show()"
   ]
  },
  {
   "cell_type": "markdown",
   "id": "tracked-butler",
   "metadata": {},
   "source": [
    "Once again we can spot differences in versions with renamed variables and version that was reimplemented."
   ]
  },
  {
   "cell_type": "markdown",
   "id": "another-administrator",
   "metadata": {},
   "source": [
    "### Edit Distance"
   ]
  },
  {
   "cell_type": "code",
   "execution_count": 54,
   "id": "narrative-maria",
   "metadata": {},
   "outputs": [],
   "source": [
    "names = ['base', 'renamed vars', 'renamed loop vars', 'renames args', 'reorder', 'while loops', 'different min funcion', 'shortened']\n",
    "X = code_vectors[total_len:total_len+len(names),:]\n",
    "total_len += len(names)"
   ]
  },
  {
   "cell_type": "code",
   "execution_count": 55,
   "id": "atomic-worry",
   "metadata": {},
   "outputs": [],
   "source": [
    "sim_matrix = X @ X.T\n",
    "dist_matrix = 1-sim_matrix"
   ]
  },
  {
   "cell_type": "code",
   "execution_count": 56,
   "id": "welsh-bankruptcy",
   "metadata": {},
   "outputs": [
    {
     "data": {
      "image/png": "[encoded data removed]",
      "text/plain": [
       "<Figure size 864x720 with 2 Axes>"
      ]
     },
     "metadata": {
      "needs_background": "light"
     },
     "output_type": "display_data"
    }
   ],
   "source": [
    "plt.figure(figsize=(12,10))\n",
    "sns.heatmap(dist_matrix, cmap=\"YlGnBu\", xticklabels=names, yticklabels=names, vmax=1.0)\n",
    "plt.show()"
   ]
  },
  {
   "cell_type": "markdown",
   "id": "greek-approval",
   "metadata": {},
   "source": [
    "Similar to previous examples, most distinguishable are versions with renamed variables and the version that was reimplemented. For the first time, we can spot smaller changes in the version with renamed arguments."
   ]
  },
  {
   "cell_type": "markdown",
   "id": "short-organ",
   "metadata": {},
   "source": [
    "### Vectors space"
   ]
  },
  {
   "cell_type": "code",
   "execution_count": 34,
   "id": "italic-medicaid",
   "metadata": {},
   "outputs": [],
   "source": [
    "labels = ['Bubble sort']*9 + ['Reverse array', 'Insertion sort', 'Has duplicates'] + ['IsPrime']*6 + ['Smallest divisor', 'GCD'] + ['Binary search']*8 + ['BFS']*5 + ['Edit distance']*8\n",
    "all_labels = ['Bubble sort', 'Reverse array', 'Insertion sort', 'Has duplicates', 'IsPrime', 'Smallest divisor', 'GCD', 'Binary search', 'BFS', 'Edit distance']\n",
    "labels = np.array(labels)"
   ]
  },
  {
   "cell_type": "code",
   "execution_count": 32,
   "id": "forward-capacity",
   "metadata": {},
   "outputs": [],
   "source": [
    "X = code_vectors[:,:]\n",
    "sim_matrix = X @ X.T\n",
    "dist_matrix = 1-sim_matrix\n",
    "mds = MDS(n_components=2, dissimilarity='precomputed')\n",
    "X_transformed = mds.fit_transform(dist_matrix)"
   ]
  },
  {
   "cell_type": "code",
   "execution_count": 39,
   "id": "bound-chapel",
   "metadata": {},
   "outputs": [
    {
     "data": {
      "image/png": "[encoded data removed]",
      "text/plain": [
       "<Figure size 720x720 with 1 Axes>"
      ]
     },
     "metadata": {
      "needs_background": "light"
     },
     "output_type": "display_data"
    }
   ],
   "source": [
    "plt.figure(figsize=(10,10))\n",
    "for i, label in enumerate(all_labels):\n",
    "    idxs = labels == label\n",
    "    if len(idxs):\n",
    "        plt.scatter(X_transformed[idxs,0], X_transformed[idxs,1], alpha=1.0, label=label)\n",
    "plt.legend(bbox_to_anchor=(1.01, 1.0), loc='upper left')\n",
    "plt.show()"
   ]
  },
  {
   "cell_type": "markdown",
   "id": "false-wellington",
   "metadata": {},
   "source": [
    "Overall we can say that code2vec is insensitive for smaller changes in code, like replacing for loops with the while ones or reordering the instructions. However renaming variables, even using synonyms leads to a significant change in the code vector. It means that token embedding is far from being perfect.\n",
    "\n",
    "We can't expect that functions with the same functionality but different implementations will be really close in the vector space. Moreover functions with different functionality, but similar implementation can be close to each other."
   ]
  }
 ],
 "metadata": {
  "kernelspec": {
   "display_name": "Python 3",
   "language": "python",
   "name": "python3"
  },
  "language_info": {
   "codemirror_mode": {
    "name": "ipython",
    "version": 3
   },
   "file_extension": ".py",
   "mimetype": "text/x-python",
   "name": "python",
   "nbconvert_exporter": "python",
   "pygments_lexer": "ipython3",
   "version": "3.9.2"
  }
 },
 "nbformat": 4,
 "nbformat_minor": 5
}
